{
 "cells": [
  {
   "cell_type": "markdown",
   "id": "0ad03049",
   "metadata": {},
   "source": [
    "# Part 2: Exam"
   ]
  },
  {
   "cell_type": "markdown",
   "id": "19a9cd78",
   "metadata": {},
   "source": [
    "### Task1"
   ]
  },
  {
   "cell_type": "code",
   "execution_count": 2,
   "id": "718d9c86",
   "metadata": {},
   "outputs": [
    {
     "name": "stdout",
     "output_type": "stream",
     "text": [
      "True\n",
      "[70, 63, 56, 49, 42, 35, 28, 21, 14, 7]\n",
      "[70, 63, 56, 49, 42, 35, 28, 21, 14, 7]\n"
     ]
    }
   ],
   "source": [
    "# Given class\n",
    "class DownSizeMutable:\n",
    "    def __init__(self, start, downsize=1):\n",
    "        self.current = start\n",
    "        self.downsize = downsize\n",
    "\n",
    "    def __iter__(self):\n",
    "        return self\n",
    "\n",
    "    def __next__(self):\n",
    "        if self.current <= 0:\n",
    "            raise StopIteration\n",
    "        else:\n",
    "            self.current -= self.downsize\n",
    "            return self.current + self.downsize\n",
    "\n",
    "# Task A: Check if an object is iterable\n",
    "def isIterable(obj):\n",
    "    try:\n",
    "        iter(obj)\n",
    "        return True\n",
    "    except TypeError:\n",
    "        return False\n",
    "\n",
    "# Testing Task A\n",
    "dsm = DownSizeMutable(70, 7)\n",
    "print(isIterable(dsm))  # Output should be True\n",
    "\n",
    "# Task B: Use a for-loop to iterate\n",
    "dsm = DownSizeMutable(70, 7)\n",
    "myList = []\n",
    "for value in dsm:\n",
    "    myList.append(value)\n",
    "print(myList)  # Output should be [70, 63, 56, 49, 42, 35, 28, 21, 14, 7]\n",
    "\n",
    "# Task C: Use a while-loop to iterate\n",
    "dsm = DownSizeMutable(70, 7)\n",
    "myList = []\n",
    "while True:\n",
    "    try:\n",
    "        value = next(dsm)\n",
    "        myList.append(value)\n",
    "    except StopIteration:\n",
    "        break\n",
    "print(myList)  # Output should be [70, 63, 56, 49, 42, 35, 28, 21, 14, 7]\n",
    "\n"
   ]
  },
  {
   "cell_type": "code",
   "execution_count": null,
   "id": "68d0af0a",
   "metadata": {},
   "outputs": [],
   "source": []
  },
  {
   "cell_type": "markdown",
   "id": "4834443c",
   "metadata": {},
   "source": [
    "### Task 2: Loop"
   ]
  },
  {
   "cell_type": "code",
   "execution_count": 3,
   "id": "b37cb4c2",
   "metadata": {},
   "outputs": [
    {
     "name": "stdout",
     "output_type": "stream",
     "text": [
      "[[1, 2.0, 3, 4], [5.0, 6, 7.0, 8], [9, 10, 11, 12], [13, 14.0, 15, 16]]\n",
      "[[1, 2.0, 3, 4, 5], [11, 12.0, 13, 14, 17.5], [21, 22, 23.0, 24, 25], [31, 32, 33, 34.0, 35], [38.5, 42, 43, 44, 45], [48.5, 52, 53.0, 54, 55]]\n"
     ]
    }
   ],
   "source": [
    "def fixMatrix(matrix):\n",
    "    rows = len(matrix)  # Number of rows\n",
    "    cols = len(matrix[0])  # Number of columns\n",
    "\n",
    "    for i in range(rows):\n",
    "        for j in range(cols):\n",
    "            if matrix[i][j] == 'NA':\n",
    "                # Determine the previous element\n",
    "                if j == 0:  # First element of the row\n",
    "                    if i == 0:  # Special case for the very first element (never 'NA')\n",
    "                        continue\n",
    "                    prev_value = matrix[i-1][-1]  # Last element of the previous row\n",
    "                else:\n",
    "                    prev_value = matrix[i][j-1]\n",
    "                \n",
    "                # Determine the next element\n",
    "                if j == cols - 1:  # Last element of the row\n",
    "                    if i == rows - 1:  # Special case for the very last element (never 'NA')\n",
    "                        continue\n",
    "                    next_value = matrix[i+1][0]  # First element of the next row\n",
    "                else:\n",
    "                    next_value = matrix[i][j+1]\n",
    "                \n",
    "                # Calculate the missing value using linear interpolation\n",
    "                matrix[i][j] = (prev_value + next_value) / 2\n",
    "    \n",
    "    return matrix\n",
    "\n",
    "# Test with provided 2D lists\n",
    "missingE1 = [\n",
    "    [1, 'NA', 3, 4],\n",
    "    ['NA', 6, 'NA', 8],\n",
    "    [9, 10, 11, 12],\n",
    "    [13, 'NA', 15, 16]\n",
    "]\n",
    "\n",
    "missingE2 = [\n",
    "    [1, 'NA', 3, 4, 5],\n",
    "    [11, 'NA', 13, 14, 'NA'],\n",
    "    [21, 22, 'NA', 24, 25],\n",
    "    [31, 32, 33, 'NA', 35],\n",
    "    ['NA', 42, 43, 44, 45],\n",
    "    ['NA', 52, 'NA', 54, 55]\n",
    "]\n",
    "\n",
    "print(fixMatrix(missingE1))\n",
    "print(fixMatrix(missingE2))\n"
   ]
  },
  {
   "cell_type": "markdown",
   "id": "77ca739d",
   "metadata": {},
   "source": [
    "### Task 3: File Write "
   ]
  },
  {
   "cell_type": "code",
   "execution_count": 4,
   "id": "5716c597",
   "metadata": {},
   "outputs": [],
   "source": [
    "class Logger:\n",
    "    def __init__(self, file_name):\n",
    "        self.file_name = file_name\n",
    "        self.entry_count = 1  # Initialize the entry counter\n",
    "\n",
    "    def add_entry(self, entry_text):\n",
    "        # Format the entry number with a minimum width of 5 characters\n",
    "        entry_number = f\"[{self.entry_count:5}]\"\n",
    "        # Create the log entry string\n",
    "        log_entry = f\"{entry_number} {entry_text}\\n\"\n",
    "        \n",
    "        # Open the file in append mode and write the log entry\n",
    "        with open(self.file_name, 'a') as log_file:\n",
    "            log_file.write(log_entry)\n",
    "        \n",
    "        # Increment the entry counter for the next entry\n",
    "        self.entry_count += 1\n",
    "\n",
    "# Test the Logger class\n",
    "logger = Logger('log.txt')\n",
    "logger.add_entry('First entry.')\n",
    "logger.add_entry('Second entry.')\n",
    "logger.add_entry('The PDS MEP is running!')\n"
   ]
  },
  {
   "cell_type": "markdown",
   "id": "ea1a9c85",
   "metadata": {},
   "source": [
    "### Task 4: Inheritance"
   ]
  },
  {
   "cell_type": "code",
   "execution_count": 5,
   "id": "43ed85e8",
   "metadata": {},
   "outputs": [
    {
     "name": "stdout",
     "output_type": "stream",
     "text": [
      "69\n"
     ]
    }
   ],
   "source": [
    "class MyStr(str):\n",
    "    @property\n",
    "    def wordCount(self):\n",
    "        # Split the string by spaces to get a list of words\n",
    "        words = self.split()\n",
    "        # Return the length of the list, which is the number of words\n",
    "        return len(words)\n",
    "\n",
    "# Inheritance test script\n",
    "txt = MyStr(\"Lorem ipsum dolor sit amet, consectetur adipiscing elit, sed do eiusmod tempor incididunt ut labore et dolore magna aliqua. Ut enim ad minim veniam, quis nostrud exercitation ullamco laboris nisi ut aliquip ex ea commodo consequat. Duis aute irure dolor in reprehenderit in voluptate velit esse cillum dolore eu fugiat nulla pariatur. Excepteur sint occaecat cupidatat non proident, sunt in culpa qui officia deserunt mollit anim id est laborum.\")\n",
    "print(txt.wordCount)  # prints the number 69 to console (there are 69 words in the text)\n"
   ]
  },
  {
   "cell_type": "markdown",
   "id": "5a78c409",
   "metadata": {},
   "source": [
    "### Task 5: Lambda Function and List Comprehension"
   ]
  },
  {
   "cell_type": "code",
   "execution_count": 9,
   "id": "ecee562a",
   "metadata": {},
   "outputs": [
    {
     "name": "stdout",
     "output_type": "stream",
     "text": [
      "['0.69', '0.85', '0.36', '0.52', '0.60', '0.01', '0.68', '0.28', '0.78', '0.33', '0.05', '0.40', '0.76', '0.10', '0.68']\n"
     ]
    }
   ],
   "source": [
    "myList = [5.69, 9.85, 7.36, 9.52, 7.6, 6.01, 6.68, 2.28, 9.78, 6, 9.33, 2.05, 3.4, 7.76, 6.1, 5.68]\n",
    "\n",
    "# Task A: Lambda function to get the decimal part of a number\n",
    "decimal_part = lambda x: x - int(x)\n",
    "\n",
    "# Task B: Modified myfilter function to filter and keep only non-zero decimal parts\n",
    "def myfilter(mylist, lamFunc):\n",
    "    return [lamFunc(x) for x in mylist if lamFunc(x) > 0]\n",
    "\n",
    "# Apply the filter\n",
    "result = myfilter(myList, decimal_part)\n",
    "\n",
    "# Testing the solution with .2f formatting in the print statement\n",
    "formatted_result = [f\"{num:.2f}\" for num in result]\n",
    "print(formatted_result)  # Output: ['0.69', '0.85', '0.36', '0.52', '0.01', '0.68', '0.28', '0.78', '0.33', '0.05', '0.40', '0.76', '0.10', '0.68']\n"
   ]
  },
  {
   "cell_type": "code",
   "execution_count": null,
   "id": "4c7c20bb",
   "metadata": {},
   "outputs": [],
   "source": []
  }
 ],
 "metadata": {
  "kernelspec": {
   "display_name": "Python 3 (ipykernel)",
   "language": "python",
   "name": "python3"
  },
  "language_info": {
   "codemirror_mode": {
    "name": "ipython",
    "version": 3
   },
   "file_extension": ".py",
   "mimetype": "text/x-python",
   "name": "python",
   "nbconvert_exporter": "python",
   "pygments_lexer": "ipython3",
   "version": "3.11.5"
  }
 },
 "nbformat": 4,
 "nbformat_minor": 5
}
