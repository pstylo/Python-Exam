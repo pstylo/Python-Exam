{
 "cells": [
  {
   "cell_type": "markdown",
   "id": "a8257d39",
   "metadata": {},
   "source": [
    "# Modul Exam PDS FS 2023"
   ]
  },
  {
   "cell_type": "markdown",
   "id": "58b3b5a0",
   "metadata": {},
   "source": [
    "### Task 1 : Slicing"
   ]
  },
  {
   "cell_type": "markdown",
   "id": "6bfab7ae",
   "metadata": {},
   "source": [
    "For each of the following code snippets:  \n",
    " What will be printed? \n",
    " Write the result in the empty text field below. "
   ]
  },
  {
   "cell_type": "code",
   "execution_count": 3,
   "id": "0c009632",
   "metadata": {},
   "outputs": [
    {
     "name": "stdout",
     "output_type": "stream",
     "text": [
      "success\n"
     ]
    }
   ],
   "source": [
    "s = \"Mojo is the successor programming language to Python!\" \n",
    "print(s[12:19])"
   ]
  },
  {
   "cell_type": "code",
   "execution_count": null,
   "id": "c76e8474",
   "metadata": {},
   "outputs": [],
   "source": []
  },
  {
   "cell_type": "code",
   "execution_count": 6,
   "id": "c1b78724",
   "metadata": {},
   "outputs": [
    {
     "name": "stdout",
     "output_type": "stream",
     "text": [
      "seromgngot!\n"
     ]
    }
   ],
   "source": [
    "s = \"Mojo is the successor programming language to Python!\" \n",
    "print(s[12::4]) "
   ]
  },
  {
   "cell_type": "code",
   "execution_count": null,
   "id": "d5ea22cd",
   "metadata": {},
   "outputs": [],
   "source": []
  },
  {
   "cell_type": "code",
   "execution_count": 7,
   "id": "399e508f",
   "metadata": {},
   "outputs": [
    {
     "name": "stdout",
     "output_type": "stream",
     "text": [
      "egaugnal a si ojoM\n"
     ]
    }
   ],
   "source": [
    " s = \"Mojo is a language\" \n",
    "print(s[::-1]) "
   ]
  },
  {
   "cell_type": "code",
   "execution_count": null,
   "id": "91ec1d44",
   "metadata": {},
   "outputs": [],
   "source": []
  },
  {
   "cell_type": "code",
   "execution_count": 8,
   "id": "6792d94c",
   "metadata": {},
   "outputs": [
    {
     "name": "stdout",
     "output_type": "stream",
     "text": [
      "lang\n"
     ]
    }
   ],
   "source": [
    "L = [\"Mojo\", \"is\", \"a\", \"language\"] \n",
    "print(L[3][:-4]) "
   ]
  },
  {
   "cell_type": "markdown",
   "id": "82dee23d",
   "metadata": {},
   "source": [
    "### Task 2 Pack/Unpacking, Lambda "
   ]
  },
  {
   "cell_type": "code",
   "execution_count": 29,
   "id": "2e504b8f",
   "metadata": {},
   "outputs": [
    {
     "name": "stdout",
     "output_type": "stream",
     "text": [
      "['H', 'S', 'L', 'U', ' ', 'M', 'E', 'P', '!']\n",
      "HSLU MEP!\n",
      "\n",
      "['H', 'S', 'L', 'U', ' ', 'M', 'E', 'P', '!']\n",
      "H S L U   M E P !\n"
     ]
    }
   ],
   "source": [
    "letter_list = [\"h\", \"s\", \"l\", \"u\", \" \", \"m\", \"e\", \"p\", \"!\"] \n",
    "\n",
    "def upper_with_for_loop(letter_list): \n",
    "    squares = [] \n",
    "    for x in letter_list: \n",
    "        squares.append(x.upper()) \n",
    "    return squares \n",
    "    \n",
    "print(upper_with_for_loop(letter_list))\n",
    "print( *upper_with_for_loop(letter_list), sep=\"\") \n",
    "print()\n",
    "      \n",
    "def upper_with_lambda(letter_list): \n",
    "    return list(map(lambda x: x.upper(), letter_list))\n",
    "\n",
    "print(upper_with_lambda(letter_list)) \n",
    "print(*upper_with_lambda(letter_list)) "
   ]
  },
  {
   "cell_type": "markdown",
   "id": "cfa53877",
   "metadata": {},
   "source": [
    "# Task 3    OO Inheritance         4 pts \n",
    "For each of the following code snippets:  \n",
    " What will be printed? \n",
    " Write the result in the empty text field below. "
   ]
  },
  {
   "cell_type": "code",
   "execution_count": 37,
   "id": "fcf48a3d",
   "metadata": {},
   "outputs": [
    {
     "name": "stdout",
     "output_type": "stream",
     "text": [
      "D\n"
     ]
    }
   ],
   "source": [
    "class AAA: \n",
    "    def m(self): \n",
    "        print(\"AAA\") \n",
    "class BB(AAA): \n",
    "    def m(self): \n",
    "        print(\"BB\") \n",
    "class CC(AAA): \n",
    "    def m(self): \n",
    "        print(\"CC\") \n",
    "class D(BB, CC): \n",
    "    def m(self): \n",
    "        print(\"D\") \n",
    "         \n",
    "d = D() \n",
    "d.m() \n",
    "\n"
   ]
  },
  {
   "cell_type": "code",
   "execution_count": 38,
   "id": "4f01ef9c",
   "metadata": {},
   "outputs": [
    {
     "name": "stdout",
     "output_type": "stream",
     "text": [
      "BB\n"
     ]
    }
   ],
   "source": [
    " \n",
    "class AAA: \n",
    "    def m(self): \n",
    "        print(\"AAA\") \n",
    "class BB(AAA): \n",
    "    def m(self): \n",
    "        print(\"BB\") \n",
    "class CC(AAA): \n",
    "    def m(self): \n",
    "        print(\"CC\") \n",
    "class D(BB, CC): \n",
    "    pass \n",
    " \n",
    "d = D() \n",
    "d.m() "
   ]
  },
  {
   "cell_type": "code",
   "execution_count": null,
   "id": "d6b355e1",
   "metadata": {},
   "outputs": [],
   "source": []
  },
  {
   "cell_type": "code",
   "execution_count": 40,
   "id": "1915ed29",
   "metadata": {},
   "outputs": [
    {
     "name": "stdout",
     "output_type": "stream",
     "text": [
      "CC\n"
     ]
    }
   ],
   "source": [
    "#Task 3.3 \n",
    " \n",
    "class AAA: \n",
    "    def m(self): \n",
    "        print(\"AAA\") \n",
    "class BB(AAA): \n",
    "    pass \n",
    "class CC(AAA): \n",
    "    def m(self): \n",
    "        print(\"CC\") \n",
    "class D(BB, CC): \n",
    "    pass \n",
    " \n",
    "d = D() \n",
    "d.m() "
   ]
  },
  {
   "cell_type": "code",
   "execution_count": 41,
   "id": "c33ef076",
   "metadata": {},
   "outputs": [
    {
     "name": "stdout",
     "output_type": "stream",
     "text": [
      "AAA\n"
     ]
    }
   ],
   "source": [
    "#Task 3.4 \n",
    " \n",
    "class AAA: \n",
    "    def m(self): \n",
    "        print(\"AAA\") \n",
    "class BB(AAA): \n",
    "    pass \n",
    "class CC(AAA): \n",
    "    pass \n",
    "class D(BB, CC): \n",
    "    pass \n",
    " \n",
    "d = D() \n",
    "d.m() "
   ]
  },
  {
   "cell_type": "code",
   "execution_count": null,
   "id": "2a1f013b",
   "metadata": {},
   "outputs": [],
   "source": []
  },
  {
   "cell_type": "markdown",
   "id": "fd4e2c53",
   "metadata": {},
   "source": [
    "## Task 4.1 String: C-Style /format() "
   ]
  },
  {
   "cell_type": "raw",
   "id": "547d4106",
   "metadata": {},
   "source": [
    "Task 4.1"
   ]
  },
  {
   "cell_type": "code",
   "execution_count": 32,
   "id": "f2991417",
   "metadata": {},
   "outputs": [
    {
     "name": "stdout",
     "output_type": "stream",
     "text": [
      "Enter your name: Anna\n",
      "Enter your age: 23\n",
      "My name is Anna and I am 23 years old.\n"
     ]
    }
   ],
   "source": [
    "\n",
    "name = input(\"Enter your name: \")              \n",
    "age = int(input(\"Enter your age: \"))           \n",
    "# your input:   Anna \n",
    "# your input:   23 \n",
    "print(\"My name is %s and I am %d years old.\" % (name, age)) \n"
   ]
  },
  {
   "cell_type": "code",
   "execution_count": null,
   "id": "fbe23b1b",
   "metadata": {},
   "outputs": [],
   "source": [
    "Task 4.2 "
   ]
  },
  {
   "cell_type": "code",
   "execution_count": 36,
   "id": "1b09cb1b",
   "metadata": {},
   "outputs": [
    {
     "name": "stdout",
     "output_type": "stream",
     "text": [
      "Enter your first name: Anna\n",
      "Enter your last name: Meier\n",
      "Enter your birth year: 1998\n",
      "\n",
      "Generated username: amei98\n"
     ]
    }
   ],
   "source": [
    "\n",
    "first_name = input(\"Enter your first name: \")  # your input:    \n",
    "last_name = input(\"Enter your last name: \")    \n",
    "# your input:    \n",
    "birth_year = input(\"Enter your birth year: \")  # your input:    \n",
    "# Anna \n",
    "# Meier \n",
    "# 1998 \n",
    "print()\n",
    "username = \"%s%s%s\" % (first_name[0].lower(), last_name[:3].lower(), birth_year[-2:]) \n",
    "print(\"Generated username: %s\" % username) "
   ]
  },
  {
   "cell_type": "code",
   "execution_count": null,
   "id": "05012f67",
   "metadata": {},
   "outputs": [],
   "source": []
  }
 ],
 "metadata": {
  "kernelspec": {
   "display_name": "Python 3 (ipykernel)",
   "language": "python",
   "name": "python3"
  },
  "language_info": {
   "codemirror_mode": {
    "name": "ipython",
    "version": 3
   },
   "file_extension": ".py",
   "mimetype": "text/x-python",
   "name": "python",
   "nbconvert_exporter": "python",
   "pygments_lexer": "ipython3",
   "version": "3.11.5"
  }
 },
 "nbformat": 4,
 "nbformat_minor": 5
}
