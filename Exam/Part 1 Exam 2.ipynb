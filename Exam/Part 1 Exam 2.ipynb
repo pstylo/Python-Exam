{
 "cells": [
  {
   "cell_type": "markdown",
   "id": "280ded5a",
   "metadata": {},
   "source": [
    "# Part 1:  "
   ]
  },
  {
   "cell_type": "markdown",
   "id": "69f64de6",
   "metadata": {},
   "source": [
    "Initialize a tuple named (tp = ..) of length 5 with the following content 3rd of 4th index respectively. \n",
    "3 = \"hello world\"\n",
    "4 = \"fibonacci:\"1,1,2,3,5,8,13\""
   ]
  },
  {
   "cell_type": "code",
   "execution_count": 40,
   "id": "c5f0f757",
   "metadata": {},
   "outputs": [
    {
     "data": {
      "text/plain": [
       "'hello world'"
      ]
     },
     "execution_count": 40,
     "metadata": {},
     "output_type": "execute_result"
    }
   ],
   "source": [
    "tp = (\"0\",\"1\",\"2\",\"hello world\",[\"fibonacci:\",1,1,2,3,5,8,13])\n",
    "len(tp)\n",
    "tp[4]\n",
    "tp[3]\n",
    "\n",
    "\n",
    "\n"
   ]
  },
  {
   "cell_type": "markdown",
   "id": "3a9a8eab",
   "metadata": {},
   "source": [
    "Question 2:Loop\n",
    "Enter the three printouts of the following piece of code."
   ]
  },
  {
   "cell_type": "code",
   "execution_count": 16,
   "id": "1df37b46",
   "metadata": {},
   "outputs": [
    {
     "name": "stdout",
     "output_type": "stream",
     "text": [
      "dentist\n",
      "school\n",
      "week-end\n"
     ]
    }
   ],
   "source": [
    "tasks = {\n",
    "    'mon': 'none',\n",
    "    'tue': 'dentist',\n",
    "    'wed': ['gym', 'lunch', 'meeting', 'dinner'],\n",
    "    'thu': 'school',\n",
    "    'fri': 'holiday'\n",
    "}\n",
    "\n",
    "for mytask in tasks:\n",
    "    if mytask[0] == 't':\n",
    "        print(tasks[mytask])\n",
    "    elif mytask == 'none':\n",
    "        break\n",
    "else:\n",
    "    print('week-end')\n"
   ]
  },
  {
   "cell_type": "markdown",
   "id": "5c6ed667",
   "metadata": {},
   "source": [
    "In the following two examples, you have to choose the correct output(s)"
   ]
  },
  {
   "cell_type": "raw",
   "id": "e771bbe2",
   "metadata": {},
   "source": [
    "x2 is a global variable initialized to \"Spam2\".\n",
    "func2() is called, but it does not change the global x2 because x2 inside the function is a local variable.\n",
    "print(x2) prints the global x2 which remains \"Spam2\"."
   ]
  },
  {
   "cell_type": "code",
   "execution_count": 21,
   "id": "c517f056",
   "metadata": {},
   "outputs": [
    {
     "name": "stdout",
     "output_type": "stream",
     "text": [
      "Spam2\n"
     ]
    }
   ],
   "source": [
    "x2 = \"Spam2\"\n",
    "def func2():\n",
    "    x2 = \"No2!\"\n",
    "func2()\n",
    "print(x2)"
   ]
  },
  {
   "cell_type": "code",
   "execution_count": 20,
   "id": "83a5769e",
   "metadata": {},
   "outputs": [
    {
     "name": "stdout",
     "output_type": "stream",
     "text": [
      "No3!\n",
      "Spam3\n"
     ]
    }
   ],
   "source": [
    "x3 = \"Spam3\"\n",
    "def func3():\n",
    "    x3 = \"No3!\"\n",
    "    print(x3)\n",
    "func3()\n",
    "print(x3)"
   ]
  },
  {
   "cell_type": "markdown",
   "id": "828d73cf",
   "metadata": {},
   "source": [
    "How do you get all values from a Python dictionary?"
   ]
  },
  {
   "cell_type": "code",
   "execution_count": 2,
   "id": "09a14f7d",
   "metadata": {},
   "outputs": [
    {
     "name": "stdout",
     "output_type": "stream",
     "text": [
      "dict_values([1, 2, 3, 4])\n"
     ]
    }
   ],
   "source": [
    "d = {'a': 1, 'b': 2, 'c': 3, 'd': 4}\n",
    "\n",
    "values = d.values()\n",
    "print(values)"
   ]
  },
  {
   "cell_type": "markdown",
   "id": "c8fdc13d",
   "metadata": {},
   "source": [
    "\n",
    "Question: Objects and Classes\n",
    "What is the output of the following program?"
   ]
  },
  {
   "cell_type": "code",
   "execution_count": 29,
   "id": "7009bb05",
   "metadata": {},
   "outputs": [
    {
     "name": "stdout",
     "output_type": "stream",
     "text": [
      "a = 200\n"
     ]
    }
   ],
   "source": [
    "def outer():\n",
    "    global a\n",
    "    a = 200\n",
    "    def inner():\n",
    "        global a\n",
    "        a = 300\n",
    "        print('a =', a)\n",
    "    \n",
    "\n",
    "a = 100\n",
    "outer()\n",
    "print('a =', a)\n",
    "\n",
    "\n"
   ]
  },
  {
   "cell_type": "markdown",
   "id": "69479604",
   "metadata": {},
   "source": [
    "Property:"
   ]
  },
  {
   "cell_type": "raw",
   "id": "446dedb5",
   "metadata": {},
   "source": [
    "def __init__(self, name): initializes the _name attribute.\n",
    "@property decorator makes name a property, allowing p1.name to access _name.\n",
    "@name.setter decorator allows setting p1.name to update _name.\n",
    "def name(self, value): defines the setter method for the name property.\n",
    "self._name = value updates the _name attribute with the new value."
   ]
  },
  {
   "cell_type": "code",
   "execution_count": 30,
   "id": "c9f8435e",
   "metadata": {},
   "outputs": [
    {
     "name": "stdout",
     "output_type": "stream",
     "text": [
      "The name is: Meier\n",
      "The name after marriage is: Müller\n"
     ]
    }
   ],
   "source": [
    "\"\"\"class Person:\n",
    "    def __init__(self, ____):\n",
    "        self._name = name\n",
    "\n",
    "    @property\n",
    "    def name(self):\n",
    "        return self._name\n",
    "\n",
    "    def name(self, value):\n",
    "        self._____ = value\n",
    "\n",
    "p1 = Person(\"Meier\")\n",
    "print(\"The name is:\", p1.name)\n",
    "\n",
    "p1.name = \"Müller\"  # p1 got married; means new name is \"Müller\"\n",
    "print(\"The name after marriage is:\", p1.name)\"\"\"\n",
    "\n",
    "class Person:\n",
    "    def __init__(self, name):\n",
    "        self._name = name\n",
    "\n",
    "    @property\n",
    "    def name(self):\n",
    "        return self._name\n",
    "\n",
    "    @name.setter\n",
    "    def name(self, value):\n",
    "        self._name = value\n",
    "\n",
    "p1 = Person(\"Meier\")\n",
    "print(\"The name is:\", p1.name)\n",
    "\n",
    "p1.name = \"Müller\"  # p1 got married; means new name is \"Müller\"\n",
    "print(\"The name after marriage is:\", p1.name)\n",
    "\n",
    "\n"
   ]
  }
 ],
 "metadata": {
  "kernelspec": {
   "display_name": "Python 3 (ipykernel)",
   "language": "python",
   "name": "python3"
  },
  "language_info": {
   "codemirror_mode": {
    "name": "ipython",
    "version": 3
   },
   "file_extension": ".py",
   "mimetype": "text/x-python",
   "name": "python",
   "nbconvert_exporter": "python",
   "pygments_lexer": "ipython3",
   "version": "3.11.5"
  }
 },
 "nbformat": 4,
 "nbformat_minor": 5
}
