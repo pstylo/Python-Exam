{
 "cells": [
  {
   "cell_type": "markdown",
   "id": "331caf3b",
   "metadata": {},
   "source": [
    "# Dictionaries"
   ]
  },
  {
   "cell_type": "code",
   "execution_count": 4,
   "id": "463edb7b",
   "metadata": {},
   "outputs": [
    {
     "name": "stdout",
     "output_type": "stream",
     "text": [
      "{'sape': 4139, 'guido': 4127, 'jack': 4098}\n",
      "{'sape': 4139, 'guido': 4127, 'jack': 4098}\n",
      "{'sape': 4139, 'guido': 4127, 'jack': 4098}\n"
     ]
    }
   ],
   "source": [
    " #different ways of declaring dictionaries\n",
    "\n",
    "my_dict_1 = {'sape': 4139, 'guido': 4127, 'jack': 4098}\n",
    "    \n",
    " my_dict_2 = dict([('sape', 4139), ('guido', 4127), ('jack', 4098)])\n",
    "\n",
    " my_dict_3 = dict(sape=4139, guido=4127, jack=4098)\n",
    "    \n",
    "print(my_dict_1)\n",
    "print(my_dict_2)\n",
    "print(my_dict_3)\n",
    "    "
   ]
  },
  {
   "cell_type": "code",
   "execution_count": 6,
   "id": "6ddf5139",
   "metadata": {},
   "outputs": [
    {
     "name": "stdout",
     "output_type": "stream",
     "text": [
      "1):  {'jack': 4098, 'sape': 4139, 'guido': 4127}\n",
      "2):  4098\n"
     ]
    }
   ],
   "source": [
    " tel = {'jack': 4098, 'sape': 4139}\n",
    " tel['guido'] = 4127 #adding element to dict tel\n",
    "\n",
    " print(\"1): \", tel)\n",
    " print(\"2): \", tel['jack']) #prints the value of jack"
   ]
  },
  {
   "cell_type": "code",
   "execution_count": null,
   "id": "3ada677b",
   "metadata": {},
   "outputs": [],
   "source": []
  }
 ],
 "metadata": {
  "kernelspec": {
   "display_name": "Python 3 (ipykernel)",
   "language": "python",
   "name": "python3"
  },
  "language_info": {
   "codemirror_mode": {
    "name": "ipython",
    "version": 3
   },
   "file_extension": ".py",
   "mimetype": "text/x-python",
   "name": "python",
   "nbconvert_exporter": "python",
   "pygments_lexer": "ipython3",
   "version": "3.11.5"
  }
 },
 "nbformat": 4,
 "nbformat_minor": 5
}
