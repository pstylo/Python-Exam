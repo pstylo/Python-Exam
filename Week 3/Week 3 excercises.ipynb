{
 "cells": [
  {
   "cell_type": "code",
   "execution_count": 1,
   "id": "ccc58446",
   "metadata": {},
   "outputs": [
    {
     "name": "stdout",
     "output_type": "stream",
     "text": [
      " * \n",
      " *  * \n",
      " *  *  * \n",
      " *  *  *  * \n",
      " *  *  *  *  * \n",
      " *  *  *  * \n",
      " *  *  * \n",
      " *  * \n",
      " * \n",
      "\n",
      "*  \n",
      "*  *  \n",
      "*  *  *  \n",
      "*  *  *  *  \n",
      "*  *  *  *  *  \n",
      "*  *  *  *  \n",
      "*  *  *  \n",
      "*  *  \n",
      "*  \n"
     ]
    }
   ],
   "source": [
    "\"\"\"Exercise 1:\n",
    "Write a Python program to construct the following pattern, using a nested for loop.\n",
    "(red: output)\n",
    "*\n",
    "* *\n",
    "* * *\n",
    "* * * *\n",
    "* * * * *\n",
    "* * * *\n",
    "* * *\n",
    "* *\n",
    "*\"\"\"\n",
    "\n",
    "# increasing part\n",
    "for i in range(1,6):\n",
    "    print(\" * \" * i)\n",
    "\n",
    "#decreasing part\n",
    "for i in range(4,0,-1):\n",
    "    print(\" * \" * i)\n",
    "\n",
    "print()\n",
    "\n",
    "#nested loop\n",
    "\n",
    "total_lines = 9\n",
    "\n",
    "#outer loop for each line\n",
    "for i in range(total_lines):\n",
    "    #determine the number of stars for the current line\n",
    "    if i < 5:\n",
    "        num_stars = i + 1 #for the first 5 lines( 0 to 4\n",
    "    else:\n",
    "        num_stars = total_lines - i\n",
    "\n",
    "    for j in range(num_stars):\n",
    "        print(\"* \", end = \" \")\n",
    "\n",
    "    print()"
   ]
  },
  {
   "cell_type": "code",
   "execution_count": 2,
   "id": "bcc1c99c",
   "metadata": {},
   "outputs": [
    {
     "name": "stdout",
     "output_type": "stream",
     "text": [
      "Enter a String: Python 3.3\n",
      "Letters 6\n",
      "Digits 2\n"
     ]
    }
   ],
   "source": [
    "\"\"\"\" Exercise 2: \n",
    "Write a Python program that accepts a string and calculates the number of digits and \n",
    "letters. (green: input, red = ouput) \n",
    "Sample Data (input) : Python 3.2 \n",
    "Expected Output : \n",
    "Letters 6  \n",
    "Digits 2 \n",
    "Hints: isdigit(), isalpha() (Book page 188 ff) \n",
    "'.' or ',' or ' ' (=Spaces) and so on are not letters! \"\"\"\n",
    "\n",
    "#Accept input from the user\n",
    "input_string = input(\"Enter a String: \") #for example Python 3.2\n",
    "\n",
    "#Initiazlize counters for letters and digits\n",
    "count_letters = 0\n",
    "count_digits = 0\n",
    "\n",
    "#Iterate through each character in the string\n",
    "for char in input_string:\n",
    "    if char.isdigit(): # check it the character is a digit\n",
    "        count_digits += 1\n",
    "    elif char.isalpha(): # check if the character is a letter\n",
    "        count_letters += 1 \n",
    "        \n",
    "#print the results\n",
    "print(\"Letters\", count_letters)\n",
    "print(\"Digits\", count_digits)\n"
   ]
  },
  {
   "cell_type": "code",
   "execution_count": 4,
   "id": "a48a4eac",
   "metadata": {},
   "outputs": [
    {
     "name": "stdout",
     "output_type": "stream",
     "text": [
      "Number of even numbers:  4\n",
      "Number of odd numbers:  5\n"
     ]
    }
   ],
   "source": [
    "\"\"\"\"Exercise 3: \n",
    "Write a Python program to count the number of even and odd numbers from a series \n",
    "of numbers. (green: sample for 'input', red: output for this sample) \n",
    "Sample numbers :  \n",
    "numbers = (11, 12, 13, 14, 15, 16, 17, 18, 19) \n",
    "Expected Output: \n",
    "Number of even numbers : 4 \n",
    "Number of odd numbers : 5 \"\"\"\"\"\n",
    "\n",
    "#Sample series of numbers\n",
    "numbers = (11, 12, 13, 14, 15, 16, 17, 18, 19)\n",
    "\n",
    "#initialize counters for even and odd numbers\n",
    "count_even = 0\n",
    "count_odd = 0\n",
    "\n",
    "#Iterate through each number in the series\n",
    "for num in numbers:\n",
    "    if num % 2 == 0: # check if the number is even\n",
    "        count_even += 1\n",
    "    else: # if the number is odd\n",
    "        count_odd += 1\n",
    "        \n",
    "#print the results \n",
    "print(\"Number of even numbers: \", count_even)\n",
    "print(\"Number of odd numbers: \", count_odd)"
   ]
  },
  {
   "cell_type": "code",
   "execution_count": null,
   "id": "f62112d5",
   "metadata": {},
   "outputs": [],
   "source": [
    "\"\"\"\"Exercise 4: \n",
    "Write a Python program which takes two digits m (row) and n (column) as input and \n",
    "generates a two-dimensional array. The element value in the i-th row and j-th column \n",
    "of the array should be i*j. (green: input, red: output) \n",
    "Note :  \n",
    "i = 0, 1, … , m-1 \n",
    "j = 0, 1, … , n-1   \n",
    "Input Test Data - Rows = 3  \n",
    "Input Test Data - Columns = 4 \n",
    "Expected Result: [[0, 0, 0, 0], [0, 1, 2, 3], [0, 2, 4, 6]] \"\"\"\"\""
   ]
  }
 ],
 "metadata": {
  "kernelspec": {
   "display_name": "Python 3 (ipykernel)",
   "language": "python",
   "name": "python3"
  },
  "language_info": {
   "codemirror_mode": {
    "name": "ipython",
    "version": 3
   },
   "file_extension": ".py",
   "mimetype": "text/x-python",
   "name": "python",
   "nbconvert_exporter": "python",
   "pygments_lexer": "ipython3",
   "version": "3.11.5"
  }
 },
 "nbformat": 4,
 "nbformat_minor": 5
}
