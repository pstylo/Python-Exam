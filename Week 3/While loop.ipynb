{
 "cells": [
  {
   "cell_type": "markdown",
   "id": "06145825",
   "metadata": {},
   "source": [
    "\n",
    "# While Loops: Execute some code while some condition remains true"
   ]
  },
  {
   "cell_type": "code",
   "execution_count": 1,
   "id": "479599dd",
   "metadata": {},
   "outputs": [
    {
     "name": "stdout",
     "output_type": "stream",
     "text": [
      "1\n",
      "2\n",
      "3\n",
      "4\n",
      "5\n"
     ]
    }
   ],
   "source": [
    "#print number as long as it is less than 6:\n",
    "\n",
    "i = 1\n",
    "while i < 6:\n",
    "    print(i)\n",
    "    i += 1"
   ]
  },
  {
   "cell_type": "code",
   "execution_count": 4,
   "id": "18a219bc",
   "metadata": {},
   "outputs": [
    {
     "name": "stdout",
     "output_type": "stream",
     "text": [
      "1\n",
      "2\n",
      "3\n"
     ]
    }
   ],
   "source": [
    "#exit the loop when i =3\n",
    "\n",
    "i = 1\n",
    "while i < 6:\n",
    "    print(i)\n",
    "    if i == 3:\n",
    "        break\n",
    "    i += 1\n"
   ]
  },
  {
   "cell_type": "code",
   "execution_count": 5,
   "id": "cae2ecb2",
   "metadata": {},
   "outputs": [
    {
     "name": "stdout",
     "output_type": "stream",
     "text": [
      "Hello python\n",
      "Hello python\n",
      "Hello python\n",
      "Hello python\n"
     ]
    }
   ],
   "source": [
    "# simple example:\n",
    "n = 1\n",
    "while n < 5:\n",
    "    print(\"Hello python\")\n",
    "    n += 1"
   ]
  },
  {
   "cell_type": "code",
   "execution_count": 8,
   "id": "dfb57316",
   "metadata": {},
   "outputs": [
    {
     "name": "stdout",
     "output_type": "stream",
     "text": [
      "Enter your name: \n",
      "You did not enter your name \n",
      "\n",
      "Enter your name please: \n",
      "You did not enter your name \n",
      "\n",
      "Enter your name please: Slash\n",
      "Hello Slash\n"
     ]
    }
   ],
   "source": [
    "#input name Example\n",
    "name = input(\"Enter your name: \")\n",
    "\n",
    "while name == \"\":\n",
    "    print(\"You did not enter your name \")\n",
    "    print()\n",
    "    name = input(\"Enter your name please: \")\n",
    "    \n",
    "print(f\"Hello {name}\")"
   ]
  },
  {
   "cell_type": "code",
   "execution_count": 12,
   "id": "4569dea3",
   "metadata": {},
   "outputs": [
    {
     "name": "stdout",
     "output_type": "stream",
     "text": [
      "Enter your age: 15\n",
      "You are not allowed: \n",
      "\n",
      "Enter your age again: 18\n",
      "Your age is 18, you are allowed to enter.\n"
     ]
    }
   ],
   "source": [
    "#Age Example\n",
    "age = int(input(\"Enter your age: \"))\n",
    "\n",
    "while age < 18:\n",
    "    print(\"You are not allowed: \")\n",
    "    print()\n",
    "    age = int(input(\"Enter your age again: \"))\n",
    "    \n",
    "print(f\"Your age is {age}, you are allowed to enter.\")\n",
    "    \n",
    "    "
   ]
  },
  {
   "cell_type": "code",
   "execution_count": 16,
   "id": "a4ea5b49",
   "metadata": {},
   "outputs": [
    {
     "name": "stdout",
     "output_type": "stream",
     "text": [
      "Enter a food you like: Pasta\n",
      "You like Pasta\n",
      "\n",
      "Enter another food you like (press q to quit)Pizza\n",
      "You like Pizza\n",
      "\n",
      "Enter another food you like (press q to quit)q\n",
      "bye\n"
     ]
    }
   ],
   "source": [
    "#Food Example\n",
    "food = input(\"Enter a food you like: \")\n",
    "\n",
    "while not food ==\"q\":\n",
    "    print(f\"You like {food}\")\n",
    "    print()\n",
    "    food = input(\"Enter another food you like (press q to quit)\")\n",
    "    \n",
    "print(\"bye\")\n"
   ]
  },
  {
   "cell_type": "code",
   "execution_count": 17,
   "id": "995b901b",
   "metadata": {},
   "outputs": [
    {
     "name": "stdout",
     "output_type": "stream",
     "text": [
      "Enter a number between 1 -10: 11\n",
      "11 is not valid\n",
      "\n",
      "Enter a valid number between 1 -10: 0\n",
      "0 is not valid\n",
      "\n",
      "Enter a valid number between 1 -10: 7\n",
      "Your lucky number is 7\n"
     ]
    }
   ],
   "source": [
    "#logical operator example\n",
    "\n",
    "num = int(input(\"Enter a number between 1 -10: \"))\n",
    "\n",
    "while num < 1 or num > 10:\n",
    "    print(f\"{num} is not valid\")\n",
    "    print()\n",
    "    num = int(input(\"Enter a valid number between 1 -10: \"))\n",
    "\n",
    "print(f\"Your lucky number is {num}\")"
   ]
  },
  {
   "cell_type": "code",
   "execution_count": null,
   "id": "4eeaa4b9",
   "metadata": {},
   "outputs": [],
   "source": []
  }
 ],
 "metadata": {
  "kernelspec": {
   "display_name": "Python 3 (ipykernel)",
   "language": "python",
   "name": "python3"
  },
  "language_info": {
   "codemirror_mode": {
    "name": "ipython",
    "version": 3
   },
   "file_extension": ".py",
   "mimetype": "text/x-python",
   "name": "python",
   "nbconvert_exporter": "python",
   "pygments_lexer": "ipython3",
   "version": "3.11.5"
  }
 },
 "nbformat": 4,
 "nbformat_minor": 5
}
