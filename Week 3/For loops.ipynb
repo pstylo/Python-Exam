{
 "cells": [
  {
   "cell_type": "markdown",
   "id": "fdb0a67f",
   "metadata": {},
   "source": [
    "# For Loops"
   ]
  },
  {
   "cell_type": "code",
   "execution_count": 18,
   "id": "696ccde7",
   "metadata": {},
   "outputs": [
    {
     "name": "stdout",
     "output_type": "stream",
     "text": [
      "b\n",
      "a\n",
      "n\n",
      "a\n",
      "n\n",
      "a\n"
     ]
    }
   ],
   "source": [
    "#The for loop does not require an indexing variable to set beforehand.\n",
    "\n",
    "for character in \"banana\": #looping through a String\n",
    "    print(character)"
   ]
  },
  {
   "cell_type": "code",
   "execution_count": 19,
   "id": "97b00bc6",
   "metadata": {},
   "outputs": [
    {
     "name": "stdout",
     "output_type": "stream",
     "text": [
      "apple\n",
      "banana\n",
      "orange\n"
     ]
    }
   ],
   "source": [
    "fruits = [\"apple\", \"banana\", \"orange\"] #looping through a list\n",
    "for fruit in fruits:\n",
    "    print(fruit)"
   ]
  },
  {
   "cell_type": "code",
   "execution_count": 6,
   "id": "5428b7ef",
   "metadata": {},
   "outputs": [
    {
     "name": "stdout",
     "output_type": "stream",
     "text": [
      "apple\n"
     ]
    }
   ],
   "source": [
    "# break :exit the loop when fruit is \"banana\"\n",
    "\n",
    "fruits =[\"apple\",\"banana\",\"orange\" ]\n",
    "for fruit in fruits:\n",
    "    if fruit == \"banana\":\n",
    "        break\n",
    "    print(fruit)"
   ]
  },
  {
   "cell_type": "code",
   "execution_count": 8,
   "id": "341b3fc9",
   "metadata": {},
   "outputs": [
    {
     "name": "stdout",
     "output_type": "stream",
     "text": [
      "apple\n",
      "orange\n"
     ]
    }
   ],
   "source": [
    "#continue: \n",
    "\n",
    "fruits = [\"apple\",\"banana\",\"orange\"]\n",
    "for fruit in fruits:\n",
    "    if fruit == \"banana\":\n",
    "        continue\n",
    "    print(fruit)\n",
    "    "
   ]
  },
  {
   "cell_type": "code",
   "execution_count": 11,
   "id": "459cd93d",
   "metadata": {},
   "outputs": [
    {
     "name": "stdout",
     "output_type": "stream",
     "text": [
      "0\n",
      "1\n",
      "2\n",
      "3\n",
      "4\n",
      "5\n",
      "\n",
      "1\n",
      "3\n",
      "5\n",
      "7\n",
      "9\n"
     ]
    }
   ],
   "source": [
    "# Range\n",
    "\n",
    "for number in range(6):\n",
    "    print(number)\n",
    "\n",
    "print()\n",
    "\n",
    "for number in range(1,10,2): #(start, stop, step)\n",
    "    print(number)"
   ]
  },
  {
   "cell_type": "code",
   "execution_count": 13,
   "id": "bb7acb8b",
   "metadata": {},
   "outputs": [
    {
     "name": "stdout",
     "output_type": "stream",
     "text": [
      "0\n",
      "1\n",
      "2\n",
      "3\n",
      "4\n",
      "5\n",
      "The loop is ended\n"
     ]
    }
   ],
   "source": [
    "# with if else\n",
    "\n",
    "for number in range(6):\n",
    "    print(number)\n",
    "else:\n",
    "    print(\"The loop is ended\")"
   ]
  },
  {
   "cell_type": "code",
   "execution_count": 17,
   "id": "e9185702",
   "metadata": {},
   "outputs": [
    {
     "name": "stdout",
     "output_type": "stream",
     "text": [
      "['red', 'big', 'tasty']\n",
      "['apple', 'banana', 'cherry']\n",
      "\n",
      "['red', 'big', 'tasty'] apple\n",
      "['red', 'big', 'tasty'] banana\n",
      "['red', 'big', 'tasty'] cherry\n",
      "['red', 'big', 'tasty'] apple\n",
      "['red', 'big', 'tasty'] banana\n",
      "['red', 'big', 'tasty'] cherry\n",
      "['red', 'big', 'tasty'] apple\n",
      "['red', 'big', 'tasty'] banana\n",
      "['red', 'big', 'tasty'] cherry\n"
     ]
    }
   ],
   "source": [
    "#Nested Loops: A loop inside a loop (outer, inner )\n",
    "\n",
    "adj = [\"red\", \"big\", \"tasty\"]\n",
    "fruits = [\"apple\", \"banana\", \"cherry\"]\n",
    "\n",
    "print(adj)\n",
    "print(fruits)\n",
    "print()\n",
    "\n",
    "for adjectiv in adj:\n",
    "    for fruit in fruits:\n",
    "        print(adj,fruit)\n"
   ]
  },
  {
   "cell_type": "code",
   "execution_count": 26,
   "id": "057725a8",
   "metadata": {},
   "outputs": [
    {
     "name": "stdout",
     "output_type": "stream",
     "text": [
      "1\n",
      "2\n",
      "3\n",
      "4\n",
      "5\n",
      "6\n",
      "7\n",
      "8\n",
      "9\n",
      "\n",
      "1 2 3 4 5 6 7 8 9 "
     ]
    }
   ],
   "source": [
    "#nested Loops\n",
    "for x in range(1,10):\n",
    "    print(x)\n",
    "\n",
    "print() #print an empty line\n",
    "\n",
    "for y in range(1,10):\n",
    "    print(y, end = \" \") #with end it prints on same line:  \" \" \",\" \"$\""
   ]
  },
  {
   "cell_type": "code",
   "execution_count": 31,
   "id": "a627c782",
   "metadata": {},
   "outputs": [
    {
     "name": "stdout",
     "output_type": "stream",
     "text": [
      "1 2 3 4 5 6 7 8 9 \n",
      "1 2 3 4 5 6 7 8 9 \n",
      "1 2 3 4 5 6 7 8 9 \n"
     ]
    }
   ],
   "source": [
    "\n",
    "for x in range(3):\n",
    "    for y in range(1,10):\n",
    "        print(y, end = \" \")\n",
    "    print() #starts a new line"
   ]
  },
  {
   "cell_type": "code",
   "execution_count": 34,
   "id": "93edd8d7",
   "metadata": {},
   "outputs": [
    {
     "name": "stdout",
     "output_type": "stream",
     "text": [
      "Enter the no. of rows: 4\n",
      "Enter the no. of columns: 5\n",
      "Enter a symbo to use: *, @, +, -@\n",
      "@ @ @ @ @ \n",
      "@ @ @ @ @ \n",
      "@ @ @ @ @ \n",
      "@ @ @ @ @ \n"
     ]
    }
   ],
   "source": [
    "\n",
    "rows = int(input(\"Enter the no. of rows: \"))\n",
    "columns = int(input(\"Enter the no. of columns: \"))\n",
    "symbol = input(\"Enter a symbo to use: *, @, +, -\" )\n",
    "\n",
    "for x in range(rows):\n",
    "    for y in range(columns):\n",
    "        print(symbol, end=\" \")\n",
    "    print()"
   ]
  }
 ],
 "metadata": {
  "kernelspec": {
   "display_name": "Python 3 (ipykernel)",
   "language": "python",
   "name": "python3"
  },
  "language_info": {
   "codemirror_mode": {
    "name": "ipython",
    "version": 3
   },
   "file_extension": ".py",
   "mimetype": "text/x-python",
   "name": "python",
   "nbconvert_exporter": "python",
   "pygments_lexer": "ipython3",
   "version": "3.11.5"
  }
 },
 "nbformat": 4,
 "nbformat_minor": 5
}
