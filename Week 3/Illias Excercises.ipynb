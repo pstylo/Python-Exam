{
 "cells": [
  {
   "cell_type": "code",
   "execution_count": 24,
   "id": "790aa072",
   "metadata": {},
   "outputs": [
    {
     "name": "stdout",
     "output_type": "stream",
     "text": [
      "$#@|~aslbagjkels nspielbiack ipnzqnmyxrclwqpiofpgwirmvoiupq riepwqdjoi pioack o ocpalsig====%%%**>\n",
      "\n",
      "aslbagjkels nspielbiack ipnzqnmyxrclwqpiofpgwirmvoiupq riepwqdjoi pioack o ocpalsig\n",
      "\n",
      "akpcqlpoiocp\n",
      "pcoioplqcpka\n"
     ]
    }
   ],
   "source": [
    "\"\"\"Exercise: Quick Slicing\n",
    "\n",
    "From the following given string, slice every 7th element in reverse order by omitting all heading and tailing \n",
    "special characters with appropriate start and end positions.\n",
    "\n",
    "$#@|~aslbagjkels nspielbiack ipnzqnmyxrclwqpiofpgwirmvoiupq riepwqdjoi pioack o ocpalsig====%%%**>\"\"\"\n",
    "\n",
    "\n",
    "input_string = \"$#@|~aslbagjkels nspielbiack ipnzqnmyxrclwqpiofpgwirmvoiupq riepwqdjoi pioack o ocpalsig====%%%**>\"\n",
    "print(input_string)\n",
    "print()\n",
    "\n",
    "#removing special charachters \n",
    "cleaned_string = input_string.strip(\"$#@|~====%%%**>\")\n",
    "print(cleaned_string)\n",
    "print()\n",
    "\n",
    "#slicing every 7th element\n",
    "sliced_string = cleaned_string[::7]\n",
    "print(sliced_string)\n",
    "\n",
    "#reverse the sliced string\n",
    "reversed_sliced_string = sliced_string[::-1]\n",
    "print(reversed_sliced_string)"
   ]
  },
  {
   "cell_type": "code",
   "execution_count": 14,
   "id": "526e4b1f",
   "metadata": {},
   "outputs": [
    {
     "name": "stdout",
     "output_type": "stream",
     "text": [
      "2.0\n",
      "2.5\n",
      "2.6666666666666665\n",
      "2.708333333333333\n",
      "2.7166666666666663\n",
      "2.7180555555555554\n",
      "2.7182539682539684\n",
      "2.71827876984127\n",
      "2.7182815255731922\n",
      "2.7182818011463845\n",
      "2.718281826198493\n",
      "2.7182818282861687\n",
      "2.7182818284467594\n",
      "2.71828182845823\n",
      "\n",
      "54\n"
     ]
    }
   ],
   "source": [
    "\"\"\"\"\"Exercise: for/while loop\n",
    "Count the first 11 decimal numbers of the natural number exp(1) = 2.71828 18284 5...\n",
    "Note: more decimal numbers (e.g. >11) may lead to differences to the true sum due to limited accuracy in Python and \n",
    "rounding effects!\n",
    "\n",
    "The number is infinite and calculated with the formula:\n",
    "                      e=∑∞n=01n!=1+11+11⋅2+11⋅2⋅3+...\n",
    " \n",
    "calculate at least the first 11 decimal numbers using the given formula above. \n",
    "That means, the denuminator of the last addend must be  ≥1011\n",
    " .\n",
    "hint for double check: n=14\n",
    "\n",
    "sum all decimal numbers of the resulting Euler-number up to the 11th position. \n",
    "In fact, sum the bold numbers of 2.71828 18284 5 in a loop.\"\"\"\n",
    "\n",
    "d = 1 # Initialize the denominator to 1\n",
    "\n",
    "e =1  # Initialize e to the first number in the series (1/0! = 1)\n",
    "\n",
    "d_increase = 2   # Initialize the increment for the denominator to 2\n",
    "\n",
    "while d < 10**11:   # Initialize the increment for the denominator to 2\n",
    "    \n",
    "    res = 1/d  # Calculate the current term (1/d)\n",
    "    e += res    # Add the current term to e\n",
    "    d *= d_increase #  Update d to the next factorial term (d *= 2, then *= 3, etc.)\n",
    "    \n",
    "    d_increase += 1 # Increment d_increase to update the factorial term\n",
    "    print(e)\n",
    "print()\n",
    "\n",
    "# Step 3: Sum the first 11 decimal digits of e\n",
    "sum_e = 0  # Initialize the sum of the first 11 decimal digits to 0\n",
    "\n",
    "# Loop to extract and sum the first 11 decimal digits of e\n",
    "for i in range(11):\n",
    "    cur_dec = int(e) #Extract the integer part, which is the current decimal digit\n",
    "    e -= cur_dec\n",
    "    e *= 10\n",
    "    sum_e += int(e) \n",
    "\n",
    "print(sum_e)# Print the sum of the first 11 decimal digits of e\n"
   ]
  },
  {
   "cell_type": "code",
   "execution_count": 8,
   "id": "be64de68",
   "metadata": {},
   "outputs": [
    {
     "name": "stdout",
     "output_type": "stream",
     "text": [
      "74\n"
     ]
    }
   ],
   "source": [
    "# Step 1: Initialization\n",
    "d = 1  # Initialize the denominator to 1\n",
    "e = 1  # Initialize e to the first number in the series (1/0! = 1)\n",
    "d_increase = 2  # Initialize the increment for the denominator to 2\n",
    "\n",
    "# Step 2: Calculate e using the series until the term's denominator reaches the threshold\n",
    "while d < 10**11:  # Continue the loop until d reaches 10^11\n",
    "    res = 1 / d  # Calculate the current term (1/d)\n",
    "    e += res  # Add the current term to e\n",
    "    d *= d_increase  # Update d to the next factorial term (d *= 2, then *= 3, etc.)\n",
    "    d_increase += 1  # Increment d_increase to update the factorial term\n",
    "\n",
    "# After this loop, e is an approximation of Euler's number to a very high precision\n",
    "\n",
    "# Step 3: Sum the first 11 decimal digits of e\n",
    "sum_e = 0  # Initialize the sum of the first 11 decimal digits to 0\n",
    "\n",
    "# Loop to extract and sum the first 11 decimal digits of e\n",
    "for i in range(11):  # Loop 11 times to get the first 11 decimal digits\n",
    "    e *= 10  # Shift the decimal place to the right by multiplying by 10\n",
    "    cur_dec = int(e)  # Extract the integer part, which is the current decimal digit\n",
    "    sum_e += cur_dec  # Add the current decimal digit to the sum\n",
    "    e -= cur_dec  # Remove the integer part from e to leave the remaining decimal part\n",
    "\n",
    "print(sum_e)  # Print the sum of the first 11 decimal digits of e"
   ]
  },
  {
   "cell_type": "code",
   "execution_count": null,
   "id": "ada65c06",
   "metadata": {},
   "outputs": [],
   "source": []
  }
 ],
 "metadata": {
  "kernelspec": {
   "display_name": "Python 3 (ipykernel)",
   "language": "python",
   "name": "python3"
  },
  "language_info": {
   "codemirror_mode": {
    "name": "ipython",
    "version": 3
   },
   "file_extension": ".py",
   "mimetype": "text/x-python",
   "name": "python",
   "nbconvert_exporter": "python",
   "pygments_lexer": "ipython3",
   "version": "3.11.5"
  }
 },
 "nbformat": 4,
 "nbformat_minor": 5
}
