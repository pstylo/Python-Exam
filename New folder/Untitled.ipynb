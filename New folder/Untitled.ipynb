{
 "cells": [
  {
   "cell_type": "code",
   "execution_count": 2,
   "id": "500ac988",
   "metadata": {},
   "outputs": [
    {
     "name": "stdout",
     "output_type": "stream",
     "text": [
      "[[-4 -2 -4]\n",
      " [-2  2  1]]\n",
      "\n",
      "[[36  0]\n",
      " [ 0  9]]\n"
     ]
    }
   ],
   "source": [
    "# see resolution exercise 7.2 c)\n",
    "#%% md\n",
    "## 7.2\n",
    "#%%\n",
    "# 1) calculate the matrix At@A\n",
    "import scipy.linalg as la\n",
    "from scipy.linalg import lu\n",
    "import numpy as np\n",
    "A = np.array([[-4,-2], [-2,2], [-4,1]])\n",
    "At = A.T\n",
    "print(At)\n",
    "print()\n",
    "print(At@A)\n",
    "\n"
   ]
  },
  {
   "cell_type": "code",
   "execution_count": 3,
   "id": "b197b75a",
   "metadata": {},
   "outputs": [
    {
     "name": "stdout",
     "output_type": "stream",
     "text": [
      "[[-0.66666667  0.66666667 -0.33333333]\n",
      " [-0.33333333 -0.66666667 -0.66666667]\n",
      " [-0.66666667 -0.33333333  0.66666667]] \n",
      " [6. 3.] \n",
      " [[ 1.  0.]\n",
      " [-0. -1.]]\n",
      "[[ 1. -0.]\n",
      " [ 0. -1.]]\n"
     ]
    }
   ],
   "source": [
    "#%%\n",
    "# 2) find V consisting of an ONB of eigenvectors of At@A\n",
    "A = np.array([[-4,-2], [-2,2],[-4,1]])\n",
    "U,Sigma,VT = np.linalg.svd(A)\n",
    "print(U,\"\\n\",Sigma,\"\\n\",VT)\n",
    "# transform U in fractions\n",
    "# you get only values of diagonal of Sigma (Sigma=[[6,0],[0,3],[0,0]])\n",
    "# VT is transposed, we need V\n",
    "#%%\n",
    "# calculate V\n",
    "V = VT.T\n",
    "print(V)\n",
    "#%%\n",
    "# 3) find Sigma\n",
    "# you get only values of diagonal of Sigma (Sigma=[[6,0],[0,3],[0,0]])\n",
    "#%%\n",
    "# 4) find U containing the normalized images of the columns of V extended to an ONB of R3\n",
    "# see above (tranform in fractions!!!)"
   ]
  },
  {
   "cell_type": "code",
   "execution_count": null,
   "id": "c3d3be33",
   "metadata": {},
   "outputs": [],
   "source": []
  }
 ],
 "metadata": {
  "kernelspec": {
   "display_name": "Python 3 (ipykernel)",
   "language": "python",
   "name": "python3"
  },
  "language_info": {
   "codemirror_mode": {
    "name": "ipython",
    "version": 3
   },
   "file_extension": ".py",
   "mimetype": "text/x-python",
   "name": "python",
   "nbconvert_exporter": "python",
   "pygments_lexer": "ipython3",
   "version": "3.11.5"
  }
 },
 "nbformat": 4,
 "nbformat_minor": 5
}
