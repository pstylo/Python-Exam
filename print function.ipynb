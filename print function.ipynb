{
 "cells": [
  {
   "cell_type": "markdown",
   "id": "4c4ab125",
   "metadata": {},
   "source": [
    "# Block 5"
   ]
  },
  {
   "cell_type": "markdown",
   "id": "4c46087c",
   "metadata": {},
   "source": [
    "### C -style Praxis"
   ]
  },
  {
   "cell_type": "raw",
   "id": "3a31d6d6",
   "metadata": {},
   "source": [
    "%[flags][width][.precision]type"
   ]
  },
  {
   "cell_type": "code",
   "execution_count": 2,
   "id": "2615f16c",
   "metadata": {},
   "outputs": [
    {
     "name": "stdout",
     "output_type": "stream",
     "text": [
      "Article : 453, Price:59.06\n"
     ]
    }
   ],
   "source": [
    "article = 453\n",
    "price = 59.058\n",
    "\n",
    "print(\"Article : %d, Price:%.2f\" %(article,price))"
   ]
  },
  {
   "cell_type": "code",
   "execution_count": null,
   "id": "9e0a06da",
   "metadata": {},
   "outputs": [],
   "source": []
  },
  {
   "cell_type": "code",
   "execution_count": 3,
   "id": "42d01720",
   "metadata": {},
   "outputs": [
    {
     "name": "stdout",
     "output_type": "stream",
     "text": [
      "Artilce:   453, Price per Unit:  59.06\n"
     ]
    }
   ],
   "source": [
    "print(\"Article: %5d, Price per Unit: %6.2f\" % (453,59.058))"
   ]
  },
  {
   "cell_type": "code",
   "execution_count": null,
   "id": "c7ecde97",
   "metadata": {},
   "outputs": [],
   "source": []
  },
  {
   "cell_type": "code",
   "execution_count": 9,
   "id": "6b3687a1",
   "metadata": {},
   "outputs": [
    {
     "name": "stdout",
     "output_type": "stream",
     "text": [
      "Enter your name: Anna\n",
      "Enter your age: 23\n",
      "My name is Anna and I am 23 years old.\n"
     ]
    }
   ],
   "source": [
    "name = input(\"Enter your name: \")              \n",
    "age = int(input(\"Enter your age: \"))           \n",
    "# your input:   Anna \n",
    "# your input:   23 \n",
    "print(\"My name is %s and I am %d years old.\" % (name, age)) "
   ]
  },
  {
   "cell_type": "code",
   "execution_count": 5,
   "id": "ba31e0a7",
   "metadata": {},
   "outputs": [
    {
     "name": "stdout",
     "output_type": "stream",
     "text": [
      "Price:  23.79 \n",
      "Price:   0.04 \n",
      "Price: 119.90 \n",
      "Price:  23.00 \n",
      "Price: 2424.17 \n",
      "Price: 24241.70 \n",
      "Price: 242417.00 \n",
      "Price: 2424170.00 \n"
     ]
    }
   ],
   "source": [
    " print(\"Price: %6.2f \" % (23.789))\n",
    " print(\"Price: %6.2f \" % (0.039))\n",
    " print(\"Price: %6.2f \" % (119.9))\n",
    " print(\"Price: %6.2f \" % (23))\n",
    " print(\"Price: %6.2f \" % (2424.17)) \n",
    "print(\"Price: %6.2f \" % (24241.7))\n",
    " # what happens if the number has more than 6 characters?\n",
    " # what happens if the number has more than 6 characters?\n",
    " print(\"Price: %6.2f \" % (242417))\n",
    " print(\"Price: %6.2f \" % (2424170))\n",
    "# what happens if the number has more than 6 characters?\n",
    " # what happens if the number has more than 6 characters?"
   ]
  },
  {
   "cell_type": "code",
   "execution_count": null,
   "id": "c2c3ad84",
   "metadata": {},
   "outputs": [],
   "source": []
  },
  {
   "cell_type": "code",
   "execution_count": 8,
   "id": "17b80c00",
   "metadata": {},
   "outputs": [
    {
     "name": "stdout",
     "output_type": "stream",
     "text": [
      "Enter your first name: Anna\n",
      "Enter your last name: Meier\n",
      "Enter your birth year: 1998\n",
      "Generated username: amei98\n"
     ]
    }
   ],
   "source": [
    "first_name = input(\"Enter your first name: \")  # your input:    \n",
    "last_name = input(\"Enter your last name: \")    \n",
    "# your input:    \n",
    "birth_year = input(\"Enter your birth year: \")  # your input:    \n",
    "\n",
    "username = \"%s%s%s\" % (first_name[0].lower(), last_name[:3].lower(), birth_year[-2:]) \n",
    "print(\"Generated username: %s\" % username) "
   ]
  },
  {
   "cell_type": "code",
   "execution_count": null,
   "id": "42b9eb10",
   "metadata": {},
   "outputs": [],
   "source": []
  },
  {
   "cell_type": "markdown",
   "id": "a249858e",
   "metadata": {},
   "source": [
    "## Function 04: \"Pythonic Way\""
   ]
  },
  {
   "cell_type": "raw",
   "id": "c485422b",
   "metadata": {},
   "source": [
    " # As always, we use the following syntax: object.methode (parameters)\n",
    " \n",
    " # object: this is a string with special brackets inside: {}\n",
    " # method: format (...)\n",
    " # Parameters: the values which should be inserted in the {} in the same order"
   ]
  },
  {
   "cell_type": "code",
   "execution_count": 12,
   "id": "abe0bc98",
   "metadata": {},
   "outputs": [
    {
     "name": "stdout",
     "output_type": "stream",
     "text": [
      "The coordinates are (5,10).\n"
     ]
    }
   ],
   "source": [
    "\n",
    "coordinates1 = \"The coordinates are ({},{}).\".format(5,10)\n",
    "print(coordinates1)"
   ]
  },
  {
   "cell_type": "code",
   "execution_count": 16,
   "id": "5c32c754",
   "metadata": {},
   "outputs": [
    {
     "name": "stdout",
     "output_type": "stream",
     "text": [
      "One of the best movies is called: Bohemian Rhapsody and\n",
      " cost 23 chf.\n"
     ]
    }
   ],
   "source": [
    "\n",
    "price = 23\n",
    "movie = \"Bohemian Rhapsody\"\n",
    "\n",
    "print(\"One of the best movies is called: {} and\\n cost {} chf.\".format(movie,price))"
   ]
  },
  {
   "cell_type": "markdown",
   "id": "45b97485",
   "metadata": {},
   "source": [
    "# f - String Method"
   ]
  },
  {
   "cell_type": "raw",
   "id": "c2900cdf",
   "metadata": {},
   "source": [
    " # newer (since Python 3.6) output technology with f-strings:"
   ]
  },
  {
   "cell_type": "code",
   "execution_count": 18,
   "id": "b3ad0731",
   "metadata": {},
   "outputs": [
    {
     "name": "stdout",
     "output_type": "stream",
     "text": [
      "The corodinates are 5 and 10\n"
     ]
    }
   ],
   "source": [
    "coordinates = f\"The coordinates are {5} and {10}\"\n",
    "print(coordinates)"
   ]
  },
  {
   "cell_type": "code",
   "execution_count": 20,
   "id": "36a0128d",
   "metadata": {},
   "outputs": [
    {
     "name": "stdout",
     "output_type": "stream",
     "text": [
      "One of the best movies is called: Bohemian Rhapsody and\n",
      " cost 23 chf.\n"
     ]
    }
   ],
   "source": [
    "price = 23\n",
    "movie = \"Bohemian Rhapsody\"\n",
    "\n",
    "print(f\"One of the best movies is called: {movie} and\\n cost {price} chf.\")"
   ]
  },
  {
   "cell_type": "code",
   "execution_count": null,
   "id": "a30f1899",
   "metadata": {},
   "outputs": [],
   "source": []
  },
  {
   "cell_type": "code",
   "execution_count": null,
   "id": "7688bc86",
   "metadata": {},
   "outputs": [],
   "source": []
  }
 ],
 "metadata": {
  "kernelspec": {
   "display_name": "Python 3 (ipykernel)",
   "language": "python",
   "name": "python3"
  },
  "language_info": {
   "codemirror_mode": {
    "name": "ipython",
    "version": 3
   },
   "file_extension": ".py",
   "mimetype": "text/x-python",
   "name": "python",
   "nbconvert_exporter": "python",
   "pygments_lexer": "ipython3",
   "version": "3.11.5"
  }
 },
 "nbformat": 4,
 "nbformat_minor": 5
}
