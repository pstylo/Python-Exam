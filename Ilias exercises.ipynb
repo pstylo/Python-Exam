{
 "cells": [
  {
   "cell_type": "code",
   "execution_count": 36,
   "id": "446bf67e",
   "metadata": {},
   "outputs": [
    {
     "name": "stdout",
     "output_type": "stream",
     "text": [
      "good morning\n"
     ]
    }
   ],
   "source": [
    "# 01 sw02 quick slicing\n",
    "#From the following given string, slice every 7th element in reverse order\n",
    "#by omitting all heading and tailing special characters with appropriate \n",
    "#start and end positions.\n",
    "\n",
    "sting = \"$#@|~aslbagjkels nspielbiack ipnzqnmyxrclwqpiofpgwirmvoiupq riepwqdjoi pioack o ocpalsig====%%%**>\"\n",
    "\n",
    "print(sting[-11:4:-7])"
   ]
  },
  {
   "cell_type": "code",
   "execution_count": 186,
   "id": "20a9c285",
   "metadata": {},
   "outputs": [
    {
     "name": "stdout",
     "output_type": "stream",
     "text": [
      "2.71828182620\n",
      "54\n"
     ]
    }
   ],
   "source": [
    "# 02 sw03 for/while loop\n",
    "#Count the first 11 decimal numbers of the natural number\n",
    "#exp(1) = 2.71828 18284 5...\n",
    "\n",
    "# 1. Calculate at least the first 11 decimal numbers using the given formula\n",
    "#above. That means, the denuminator of the last addend must be  ≥10^11.\n",
    "\n",
    "n = 1\n",
    "x = 1\n",
    "for i in range(1,12):\n",
    "    n += 1/(x*i)  # n = n + 1/(x*i) 1+ 1/2+ 1/6+ 1/16\n",
    "    x *= i # x = x*i\n",
    "print(\"%13.11f\" % (n))\n",
    "\n",
    "# 2. Sum up all decimal numbers of the resulting Euler-number up to the 11th\n",
    "#position. In fact, sum the bold numbers of 2.71828182845 in a loop.\n",
    "\n",
    "e = 2.71828182845\n",
    "str_e = str(e)\n",
    "res = 0\n",
    "for i in str_e[2:]:\n",
    "    res += int(i)\n",
    "print(res)\n",
    "\n",
    "#output should be 54"
   ]
  },
  {
   "cell_type": "code",
   "execution_count": 82,
   "id": "2f01abca",
   "metadata": {},
   "outputs": [
    {
     "name": "stdout",
     "output_type": "stream",
     "text": [
      "45\n",
      "45\n"
     ]
    }
   ],
   "source": [
    "# 03 sw04 toast count\n",
    "#At a party you want to know how often guests toast with the wine before\n",
    "#the dinner. Assume each of n guests has a glass and toasts with all other\n",
    "#guests.\n",
    "\n",
    "# 1. Count in a for loop.\n",
    "\n",
    "n = 10\n",
    "toasts = 0\n",
    "for i in range(n,1,-1):\n",
    "    toasts += i-1\n",
    "print(toasts)\n",
    "\n",
    "# 2. Count in a while loop.\n",
    "\n",
    "n = 10\n",
    "toasts = 0\n",
    "i=n-1\n",
    "while i > 0:\n",
    "    toasts += i\n",
    "    i -= 1\n",
    "print(toasts)"
   ]
  },
  {
   "cell_type": "code",
   "execution_count": 87,
   "id": "4910186f",
   "metadata": {},
   "outputs": [
    {
     "name": "stdout",
     "output_type": "stream",
     "text": [
      "['today', 'is', 'a', 'very', 'beautiful', 'day.']\n",
      "['toda', ' is a ver', ' beautiful da', '.']\n"
     ]
    }
   ],
   "source": [
    "# 04 sw05 string split\n",
    "#Define a function called strSplit(...) that iterates over a string and splits\n",
    "#a string into substrings by a given character while the given character is NOT\n",
    "#part of any substring. The default separation is the space character.\n",
    "#The function should provide two parameters: one for the string to split and\n",
    "#another for the character to split. As result, the function returns a list\n",
    "#with all substrings. Applied on the given string mystr, the function strSplit\n",
    "#should return following lists:\n",
    "\n",
    "mystr = 'today is a very beautiful day.'\n",
    "#strSplit(mystr)\n",
    "#['today','is','a','very','beautiful','day']\n",
    "#strSplit(mystr, 'y')\n",
    "#['toda',' is a ver',' beautiful da']\n",
    "\n",
    "def strSplit(string, char = \" \"):\n",
    "    print(string.split(char))\n",
    "\n",
    "strSplit(mystr)    \n",
    "strSplit(mystr, \"y\")"
   ]
  },
  {
   "cell_type": "code",
   "execution_count": 95,
   "id": "1f77e567",
   "metadata": {},
   "outputs": [
    {
     "name": "stdout",
     "output_type": "stream",
     "text": [
      "hel\n",
      "WOR\n",
      "jo\n",
      "tri\n"
     ]
    }
   ],
   "source": [
    "# 05 sw06 string cut\n",
    "#Program a function strcut that cuts all strings passed to the function from\n",
    "#the n-th element and prints all shortened strings. Thereby, the amount\n",
    "#of passed strings should be arbitrary.\n",
    "\n",
    "def strcut(*string, n):\n",
    "    for i in string:\n",
    "        print(i[:n])\n",
    "        \n",
    "strcut(\"hello\", \"WORLD\", \"jo\", \"trial\", n=3)"
   ]
  },
  {
   "cell_type": "code",
   "execution_count": 106,
   "id": "8194bf76",
   "metadata": {
    "scrolled": true
   },
   "outputs": [
    {
     "name": "stdout",
     "output_type": "stream",
     "text": [
      "3.0\n"
     ]
    }
   ],
   "source": [
    "# 07 sw08 class definition\n",
    "#Create a class named DataHandler that takes a data series (list of numbers)\n",
    "#as argument and provides two methods: addValue(x), adding the value x to every\n",
    "#single element of the list passed to the __init__ method and has no return.\n",
    "#sum(), returns the sum of all elements of the hosted list You can verify the \n",
    "#class DataHandler with the following code. Think about if the resulting\n",
    "#ratio; is it correct?\n",
    "\n",
    "class DataHandler:\n",
    "    \n",
    "    def __init__(self, ds):\n",
    "        self.ds = ds\n",
    "    \n",
    "    def addValue(self, x):\n",
    "        self.ds = [i + x for i in self.ds]\n",
    "    \n",
    "    def sum(self):\n",
    "        return sum(self.ds)\n",
    "\n",
    "a = DataHandler([2,3,4])\n",
    "b = DataHandler([1,2,3])\n",
    "\n",
    "a.addValue(3)\n",
    "\n",
    "ratio = a.sum()/b.sum()\n",
    "print(ratio)"
   ]
  },
  {
   "cell_type": "code",
   "execution_count": 116,
   "id": "753fa585",
   "metadata": {},
   "outputs": [
    {
     "name": "stdout",
     "output_type": "stream",
     "text": [
      "The job is done!\n"
     ]
    }
   ],
   "source": [
    "# 08 sw09 inheritance\n",
    "#Write a new class called 'MyStr' that inherits from str. In addition\n",
    "#'MyStr' provides a function called bi_rev() that returns every 2nd character\n",
    "#in reverse order, beginning by the last character (i.e. it prints the\n",
    "#characters n, n-2, n-4, ...).\n",
    "\n",
    "class MyStr(str):\n",
    "    def __init__(self, sentence):\n",
    "        self.sentence = sentence\n",
    "    \n",
    "    def bi_rev(self):\n",
    "        return self[-1::-2]\n",
    "\n",
    "txt1 = MyStr('z!me ngosdf nsjir zbgocjx aewh!T')\n",
    "print(txt1.bi_rev())"
   ]
  },
  {
   "cell_type": "code",
   "execution_count": 117,
   "id": "49a6ef5a",
   "metadata": {},
   "outputs": [
    {
     "name": "stdout",
     "output_type": "stream",
     "text": [
      "child features\n",
      "parent features\n",
      "1: features are:  [2, 6]\n",
      "2: feature counts:  3\n",
      "parent features\n",
      "3: reduced features:  [6, 8]\n"
     ]
    }
   ],
   "source": [
    "# 09 sw10 advanced inheritance\n",
    "#Create a class named DataSeries that takes over a list (data series) and\n",
    "#provides two methods: get_features(dx), it returns a list with the positions\n",
    "#of the first of two subsequent elements that have an absolute mummerical\n",
    "#distance (count data) equal or above (>=) than the given distance dx.\n",
    "#count_features(), returns the number of features in a series of count data\n",
    "#values. Create a second class MyDataSeries that inherits from DataSeries and\n",
    "#takes over a list (data series). This class overrides the function\n",
    "#get_features and allows to set a range of dx_min and dx_max (boundaries\n",
    "#included) for feature detection.\n",
    "\n",
    "class DataSeries:\n",
    " \n",
    "    def __init__(self, series):\n",
    "        self._ds = series\n",
    "        self._feature_list = []\n",
    " \n",
    "    def get_features(self, dx):\n",
    "        print('parent features')\n",
    "        self._feature_list = []\n",
    "        for i in range(0, len(self._ds) - 1):\n",
    "            if (self._ds[i + 1] - self._ds[i]) >= dx:\n",
    "                self._feature_list.append(i)\n",
    "                # append element\n",
    "            elif (self._ds[i] - self._ds[i + 1]) >= dx:\n",
    "                self._feature_list += [i]\n",
    "                # append element\n",
    "        return self._feature_list\n",
    " \n",
    "    def count_features(self):\n",
    "        return len(self._feature_list)\n",
    " \n",
    " \n",
    "class MyDataSeries(DataSeries):\n",
    "    \"\"\"\n",
    "    this is the main class\n",
    " \n",
    "    @param: DataSeries - a series of data points\n",
    "    \"\"\"\n",
    " \n",
    "    def get_features(self, dx_min, dx_max=None):\n",
    "        print('child features')\n",
    "        fl = super().get_features(dx_min)\n",
    "        _reduced_list = []\n",
    "        for i in fl:\n",
    "            dx1 = (self._ds[i] - self._ds[i + 1])\n",
    "            dx2 = (self._ds[i + 1] - self._ds[i])\n",
    "            if (dx_min <= dx1 <= dx_max) or (dx_min <= dx2 <= dx_max):\n",
    "                _reduced_list += [i]\n",
    "        return _reduced_list\n",
    " \n",
    " \n",
    "my_ds = MyDataSeries([1, 2, 3, 6, 7, 6, 5, 1, 2, 10, 11, 10])\n",
    "print('1: features are: ', my_ds.get_features(3, 7))                  # output: [2, 6]\n",
    "print('2: feature counts: ', my_ds.count_features())                  # output: 3\n",
    "print('3: reduced features: ', DataSeries.get_features(my_ds, 4))     # output: [6, 8]\n"
   ]
  },
  {
   "cell_type": "code",
   "execution_count": 124,
   "id": "2d6992db",
   "metadata": {},
   "outputs": [
    {
     "name": "stdout",
     "output_type": "stream",
     "text": [
      "hello\n",
      "string index out of range\n",
      "help\n"
     ]
    }
   ],
   "source": [
    "# 10 sw11 string select\n",
    "#Program a function strselect that returns all strings of a list having the\n",
    "#letter passed to the parameter key at the given position p. Catch the\n",
    "#IndexError that is raised if the position p is out of index range and print\n",
    "#the error message \"string index out of range\" instead.\n",
    "\n",
    "def strselect(string, key, p):\n",
    "    for i in string:\n",
    "        try:\n",
    "            if i[p] == key:\n",
    "                print(i)\n",
    "        except IndexError:\n",
    "            print(\"string index out of range\")\n",
    "    \n",
    "strselect([\"hello\", \"of\", \"help\", \"world\"], key = \"l\", p = 2)\n",
    "    "
   ]
  },
  {
   "cell_type": "code",
   "execution_count": 144,
   "id": "d9ab26a8",
   "metadata": {},
   "outputs": [
    {
     "name": "stdout",
     "output_type": "stream",
     "text": [
      "[31, 50, 53, 61, 85, 112, 144, 173, 218, 16, 257, 337, 338, 19, 415, 477, 495, 537, 625, 647, 693, 795, 869, 958, 983]\n",
      "[16, 19, 31, 50, 53, 61, 85, 338, 693, 144, 958, 495, 218, 647, 337, 869, 537, 477, 625, 173, 795, 257, 983, 415, 112]\n"
     ]
    }
   ],
   "source": [
    "# 11 lambda function\n",
    "#Use the function sorted with lambda functions to sort my_list in two different\n",
    "#ways: \n",
    "\n",
    "\n",
    "my_list = [338, 693, 19, 144, 85, 958, 495, 218, 647, 50, 337, 869, 537, 477,\n",
    "           625, 31, 173, 795, 61, 257, 983, 415, 16, 112, 53]\n",
    "\n",
    "# 1. sort my_list in increasing order while using the square for all\n",
    "#values less than 30.\n",
    "\n",
    "my_list_sorted = sorted(my_list, key = lambda x: x**2 if x < 30 else x)\n",
    "print(my_list_sorted)\n",
    "\n",
    "# 2. sort only values less than 100 and keep all others\n",
    "#in original order after the sorted values.\n",
    "#e.g. [400, 60, 200, 7, 40, 300]  ->  [7, 40, 60, 400, 200, 300]\n",
    "\n",
    "my_list_less_than_100 = sorted([x for x in my_list if x < 100])\n",
    "my_list_more_than_100 = [x for x in my_list if x >= 100]\n",
    "my_list_sorted_again = my_list_less_than_100 + my_list_more_than_100\n",
    "print(my_list_sorted_again)"
   ]
  },
  {
   "cell_type": "code",
   "execution_count": 148,
   "id": "dc2c6618",
   "metadata": {},
   "outputs": [
    {
     "name": "stdout",
     "output_type": "stream",
     "text": [
      "[85, 83, 368, 392, 869, 391, 398, 562, 361, 711, 24, 645, 191, 537, 455]\n",
      "[199, 962, 557, 615, 878, 624, 376, 584, 631, 978, 517, 364, 819, 996, 605]\n",
      "[760, 407, 245, 334, 968, 312, 301, 146, 269, 376, 101, 610, 445, 321, 463]\n",
      "[424, 453, 940, 447, 849, 128, 57, 375, 537, 851, 996, 701, 823, 891, 464]\n",
      "[607, 23, 150, 861, 240, 564, 775, 234, 741, 139, 723, 267, 596, 541, 103]\n",
      "[658, 849, 100, 451, 376, 24, 689, 414, 185, 157, 200, 162, 329, 537, 694]\n",
      "[626, 28, 840, 184, 629, 564, 192, 582, 655, 953, 121, 799, 630, 838, 977]\n",
      "[135, 560, 273, 915, 117, 614, 21, 810, 618, 443, 272, 259, 815, 998, 133]\n",
      "[835, 478, 38, 591, 655, 268, 204, 426, 850, 929, 574, 16, 591, 78, 385]\n",
      "[983, 833, 534, 212, 271, 647, 881, 333, 993, 148, 767, 756, 799, 273, 777]\n",
      "[444, 887, 482, 234, 101, 395, 288, 387, 380, 792, 311, 85, 453, 98, 39]\n",
      "[903, 372, 147, 749, 421, 506, 246, 90, 660, 512, 442, 322, 631, 684, 288]\n",
      "[144, 875, 30, 573, 138, 681, 174, 418, 678, 227, 50, 820, 552, 685, 134]\n",
      "[495, 659, 175, 47, 729, 523, 371, 362, 307, 588, 612, 609, 195, 107, 611]\n",
      "[931, 834, 857, 85, 643, 401, 846, 475, 565, 823, 671, 509, 49, 181, 953]\n",
      "[671, 434, 848, 369, 534, 581, 377, 40, 742, 776, 574, 327, 261, 927, 151]\n",
      "[510, 355, 603, 997, 719, 349, 510, 549, 259, 510, 34, 904, 187, 672, 960]\n",
      "[643, 624, 389, 737, 710, 367, 936, 391, 693, 230, 667, 236, 72, 871, 636]\n",
      "[344, 958, 468, 813, 829, 506, 940, 772, 954, 411, 275, 102, 605, 475, 595]\n",
      "[765, 465, 866, 100, 167, 29, 351, 84, 455, 617, 563, 909, 755, 777, 575]\n",
      "[728, 760, 695, 34, 246, 888, 706, 680, 517, 546, 215, 649, 468, 70, 560]\n",
      "[583, 813, 729, 426, 552, 439, 99, 63, 619, 942, 667, 993, 926, 606, 433]\n"
     ]
    }
   ],
   "source": [
    "# 12 list comprehension\n",
    "#Given is a series my_num of 330 arbitrary numbers. The series is composed \n",
    "#by 22 independent variables that you have to separate again.\n",
    "#Use list comprehension to separate the 22 independent variables into sublists\n",
    "#such that you can assign separate names and create a data frame. The goal \n",
    "#is to have a list of lists for all the independent variables like:\n",
    "\n",
    "from random import random\n",
    "my_num = []\n",
    " \n",
    "for i in range(330):\n",
    "    my_num += [int(random()*1000)]\n",
    "\n",
    "my_vars = [my_num[i:i+15] for i in range(0, 330, 15)]\n",
    "print(*my_vars, sep='\\n')"
   ]
  },
  {
   "cell_type": "code",
   "execution_count": 152,
   "id": "895a6521",
   "metadata": {},
   "outputs": [
    {
     "name": "stdout",
     "output_type": "stream",
     "text": [
      "Stream obj: 4114\n",
      "Stream obj: 3474\n",
      "Stream obj: 5946\n",
      "Stream obj: 8240\n",
      "Stream obj: 4809\n",
      "Stream obj: 6965\n",
      "Stream obj: 4830\n",
      "Stream obj: 7592\n",
      "Stream obj: 7064\n",
      "Stream obj: 4229\n",
      "Stream obj: 8491\n",
      "Stream obj: 9662\n",
      "Stream obj: 6589\n",
      "Stream obj: 1845\n",
      "Stream obj: 6653\n"
     ]
    }
   ],
   "source": [
    "# 13 listed objects\n",
    "#Frequently, it is useful to have data recordings or stream access in objects\n",
    "#represented, especially if all are used in the same data analysis project.\n",
    "#Create 15 individual Stream objects in a list using list comprehension and\n",
    "#pass unique random id in the range 1000 to 9999 (i.e. from range(1000, 9999))\n",
    "#to the Stream init method. Complete the following code and run it for testing.\n",
    "#As result, it should output all given ids.\n",
    "\n",
    "from random import sample\n",
    " \n",
    "class Stream:\n",
    "    def __init__(self, id):\n",
    "        self.my_id = id\n",
    "    def __repr__(self):\n",
    "        return f\"Stream obj: {self.my_id}\"\n",
    "\n",
    "random_ids = sample(range(1000, 10000), 15)\n",
    "\n",
    "stream_objects = [Stream(id) for id in random_ids]\n",
    "print(*stream_objects, sep='\\n')"
   ]
  },
  {
   "cell_type": "code",
   "execution_count": 180,
   "id": "72147d32",
   "metadata": {},
   "outputs": [
    {
     "name": "stdout",
     "output_type": "stream",
     "text": [
      "99\n",
      "not possible\n"
     ]
    }
   ],
   "source": [
    "class S(object):\n",
    "    __slots__ = ['val', 'new'] # only attribute 'val' is allowed\n",
    "    \n",
    "    def __init__(self, v):\n",
    "        self.val = v\n",
    "x = S(42)             # create an object x (of type S)\n",
    "x.val = 99            # change the data attribute val\n",
    "print(x.val)          # printing of data attribute\n",
    "x.new = \"not possible\"\n",
    "print(x.new)"
   ]
  }
 ],
 "metadata": {
  "kernelspec": {
   "display_name": "Python 3 (ipykernel)",
   "language": "python",
   "name": "python3"
  },
  "language_info": {
   "codemirror_mode": {
    "name": "ipython",
    "version": 3
   },
   "file_extension": ".py",
   "mimetype": "text/x-python",
   "name": "python",
   "nbconvert_exporter": "python",
   "pygments_lexer": "ipython3",
   "version": "3.11.5"
  }
 },
 "nbformat": 4,
 "nbformat_minor": 5
}
